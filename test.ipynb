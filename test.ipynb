{
 "cells": [
  {
   "cell_type": "code",
   "id": "initial_id",
   "metadata": {
    "collapsed": true,
    "ExecuteTime": {
     "end_time": "2025-02-28T07:08:59.227902Z",
     "start_time": "2025-02-28T07:08:55.316953Z"
    }
   },
   "source": [
    "import requests\n",
    "from bs4 import BeautifulSoup\n",
    "import json\n",
    "\n",
    "# Set up API keys\n",
    "YOUTUBE_API_KEY = \"YOUR_YOUTUBE_API_KEY\"\n",
    "\n",
    "# Function to fetch YouTube videos\n",
    "def get_youtube_videos(query, max_results=5):\n",
    "    url = f\"https://www.googleapis.com/youtube/v3/search?part=snippet&q={query}&type=video&key={YOUTUBE_API_KEY}&maxResults={max_results}\"\n",
    "    response = requests.get(url)\n",
    "    data = response.json()\n",
    "    \n",
    "    videos = []\n",
    "    for item in data.get(\"items\", []):\n",
    "        video_title = item[\"snippet\"][\"title\"]\n",
    "        video_url = f\"https://www.youtube.com/watch?v={item['id']['videoId']}\"\n",
    "        videos.append({\"title\": video_title, \"url\": video_url})\n",
    "    \n",
    "    return videos\n",
    "\n",
    "# Function to fetch article links using DuckDuckGo\n",
    "def get_articles(query, max_results=5):\n",
    "    url = f\"https://duckduckgo.com/html/?q={query}\"\n",
    "    response = requests.get(url, headers={\"User-Agent\": \"Mozilla/5.0\"})\n",
    "    soup = BeautifulSoup(response.text, \"html.parser\")\n",
    "    \n",
    "    articles = []\n",
    "    results = soup.find_all(\"a\", class_=\"result__a\", limit=max_results)\n",
    "    for result in results:\n",
    "        title = result.get_text()\n",
    "        link = result[\"href\"]\n",
    "        articles.append({\"title\": title, \"url\": link})\n",
    "    \n",
    "    return articles\n",
    "\n",
    "# Example usage\n",
    "topic = \"Introduction to Networking in English\"\n",
    "youtube_videos = get_youtube_videos(topic)\n",
    "articles = get_articles(topic)\n",
    "\n",
    "print(\"YouTube Videos:\")\n",
    "print(json.dumps(youtube_videos, indent=2))\n",
    "\n",
    "print(\"Articles:\")\n",
    "print(json.dumps(articles, indent=2))\n"
   ],
   "outputs": [
    {
     "name": "stdout",
     "output_type": "stream",
     "text": [
      "YouTube Videos:\n",
      "[]\n",
      "Articles:\n",
      "[\n",
      "  {\n",
      "    \"title\": \"CCNA: Introduction to Networks - Networking Academy\",\n",
      "    \"url\": \"//duckduckgo.com/l/?uddg=https%3A%2F%2Fwww.netacad.com%2Fcourses%2Fccna%2Dintroduction%2Dnetworks&rut=d0781ac2a1e887bfe315fd51da4173aaef3ed252db4338e478e5678e1960d5bc\"\n",
      "  },\n",
      "  {\n",
      "    \"title\": \"PDF Introduction to Networking - Dr. Chuck\",\n",
      "    \"url\": \"//duckduckgo.com/l/?uddg=https%3A%2F%2Fdo1.dr%2Dchuck.net%2Fnet%2Dintro%2FEN_us%2Fnet%2Dintro.pdf&rut=4983cdd70c48f50d58f0324bbaa2955fe235714376c3bb1870227f3a157a3106\"\n",
      "  },\n",
      "  {\n",
      "    \"title\": \"PDF Introduction to Networking - Stanford University\",\n",
      "    \"url\": \"//duckduckgo.com/l/?uddg=https%3A%2F%2Fweb.stanford.edu%2Fdept%2Fits%2Fsupport%2Ftechtraining%2Ftechbriefing%2Dmedia%2FIntro_Net_TB.pdf&rut=45f11330fa3fd319658df4f74e7eea0b638d4acd12dbba1a03886634df12be9a\"\n",
      "  },\n",
      "  {\n",
      "    \"title\": \"Introduction to Networking: A Beginner's Guide - StationX\",\n",
      "    \"url\": \"//duckduckgo.com/l/?uddg=https%3A%2F%2Fwww.stationx.net%2Fintroduction%2Dto%2Dnetworking%2F&rut=6b6d2a62e672b4f92d177b8512f47d67b9907054c84e419a18e90f976a6743b0\"\n",
      "  },\n",
      "  {\n",
      "    \"title\": \"Free Computer Networking Course by Cisco: Start Learning Now\",\n",
      "    \"url\": \"//duckduckgo.com/l/?uddg=https%3A%2F%2Fwww.netacad.com%2Fcourses%2Fnetworking%2Dbasics&rut=3ed491fecb5c14da30562edd6213ed61a254f4e2009f2f91859e0bc118e7b1f9\"\n",
      "  }\n",
      "]\n"
     ]
    }
   ],
   "execution_count": 3
  }
 ],
 "metadata": {
  "kernelspec": {
   "display_name": "Python 3",
   "language": "python",
   "name": "python3"
  },
  "language_info": {
   "codemirror_mode": {
    "name": "ipython",
    "version": 2
   },
   "file_extension": ".py",
   "mimetype": "text/x-python",
   "name": "python",
   "nbconvert_exporter": "python",
   "pygments_lexer": "ipython2",
   "version": "2.7.6"
  }
 },
 "nbformat": 4,
 "nbformat_minor": 5
}
